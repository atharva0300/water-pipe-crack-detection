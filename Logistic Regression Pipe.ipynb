{
 "cells": [
  {
   "cell_type": "code",
   "execution_count": 30,
   "id": "23486adc",
   "metadata": {},
   "outputs": [
    {
     "data": {
      "text/html": [
       "<div>\n",
       "<style scoped>\n",
       "    .dataframe tbody tr th:only-of-type {\n",
       "        vertical-align: middle;\n",
       "    }\n",
       "\n",
       "    .dataframe tbody tr th {\n",
       "        vertical-align: top;\n",
       "    }\n",
       "\n",
       "    .dataframe thead th {\n",
       "        text-align: right;\n",
       "    }\n",
       "</style>\n",
       "<table border=\"1\" class=\"dataframe\">\n",
       "  <thead>\n",
       "    <tr style=\"text-align: right;\">\n",
       "      <th></th>\n",
       "      <th>material</th>\n",
       "      <th>tomr</th>\n",
       "      <th>cf</th>\n",
       "      <th>c_wave_no</th>\n",
       "      <th>cd_radial</th>\n",
       "      <th>cw_circumferencial</th>\n",
       "      <th>crack</th>\n",
       "    </tr>\n",
       "  </thead>\n",
       "  <tbody>\n",
       "    <tr>\n",
       "      <th>0</th>\n",
       "      <td>3</td>\n",
       "      <td>0.4217</td>\n",
       "      <td>2</td>\n",
       "      <td>1</td>\n",
       "      <td>0.6131</td>\n",
       "      <td>0.9991</td>\n",
       "      <td>1</td>\n",
       "    </tr>\n",
       "    <tr>\n",
       "      <th>1</th>\n",
       "      <td>6</td>\n",
       "      <td>0.7629</td>\n",
       "      <td>4</td>\n",
       "      <td>-2</td>\n",
       "      <td>0.3846</td>\n",
       "      <td>0.9982</td>\n",
       "      <td>1</td>\n",
       "    </tr>\n",
       "    <tr>\n",
       "      <th>2</th>\n",
       "      <td>5</td>\n",
       "      <td>0.1898</td>\n",
       "      <td>1</td>\n",
       "      <td>-7</td>\n",
       "      <td>0.6917</td>\n",
       "      <td>0.9982</td>\n",
       "      <td>1</td>\n",
       "    </tr>\n",
       "    <tr>\n",
       "      <th>3</th>\n",
       "      <td>2</td>\n",
       "      <td>0.4062</td>\n",
       "      <td>2</td>\n",
       "      <td>-2</td>\n",
       "      <td>0.5927</td>\n",
       "      <td>0.9980</td>\n",
       "      <td>1</td>\n",
       "    </tr>\n",
       "    <tr>\n",
       "      <th>4</th>\n",
       "      <td>6</td>\n",
       "      <td>0.8078</td>\n",
       "      <td>4</td>\n",
       "      <td>-10</td>\n",
       "      <td>0.9345</td>\n",
       "      <td>0.9980</td>\n",
       "      <td>1</td>\n",
       "    </tr>\n",
       "    <tr>\n",
       "      <th>...</th>\n",
       "      <td>...</td>\n",
       "      <td>...</td>\n",
       "      <td>...</td>\n",
       "      <td>...</td>\n",
       "      <td>...</td>\n",
       "      <td>...</td>\n",
       "      <td>...</td>\n",
       "    </tr>\n",
       "    <tr>\n",
       "      <th>1936</th>\n",
       "      <td>4</td>\n",
       "      <td>0.7451</td>\n",
       "      <td>3</td>\n",
       "      <td>-11</td>\n",
       "      <td>0.8008</td>\n",
       "      <td>0.0258</td>\n",
       "      <td>1</td>\n",
       "    </tr>\n",
       "    <tr>\n",
       "      <th>1937</th>\n",
       "      <td>4</td>\n",
       "      <td>0.4697</td>\n",
       "      <td>2</td>\n",
       "      <td>-4</td>\n",
       "      <td>0.1728</td>\n",
       "      <td>0.0257</td>\n",
       "      <td>1</td>\n",
       "    </tr>\n",
       "    <tr>\n",
       "      <th>1938</th>\n",
       "      <td>3</td>\n",
       "      <td>0.0448</td>\n",
       "      <td>1</td>\n",
       "      <td>-2</td>\n",
       "      <td>0.5649</td>\n",
       "      <td>0.0254</td>\n",
       "      <td>0</td>\n",
       "    </tr>\n",
       "    <tr>\n",
       "      <th>1939</th>\n",
       "      <td>1</td>\n",
       "      <td>0.7149</td>\n",
       "      <td>3</td>\n",
       "      <td>9</td>\n",
       "      <td>0.2688</td>\n",
       "      <td>0.0253</td>\n",
       "      <td>1</td>\n",
       "    </tr>\n",
       "    <tr>\n",
       "      <th>1940</th>\n",
       "      <td>4</td>\n",
       "      <td>0.7759</td>\n",
       "      <td>4</td>\n",
       "      <td>7</td>\n",
       "      <td>0.9258</td>\n",
       "      <td>0.0252</td>\n",
       "      <td>1</td>\n",
       "    </tr>\n",
       "  </tbody>\n",
       "</table>\n",
       "<p>1941 rows × 7 columns</p>\n",
       "</div>"
      ],
      "text/plain": [
       "      material    tomr  cf  c_wave_no  cd_radial  cw_circumferencial  crack\n",
       "0            3  0.4217   2          1     0.6131              0.9991      1\n",
       "1            6  0.7629   4         -2     0.3846              0.9982      1\n",
       "2            5  0.1898   1         -7     0.6917              0.9982      1\n",
       "3            2  0.4062   2         -2     0.5927              0.9980      1\n",
       "4            6  0.8078   4        -10     0.9345              0.9980      1\n",
       "...        ...     ...  ..        ...        ...                 ...    ...\n",
       "1936         4  0.7451   3        -11     0.8008              0.0258      1\n",
       "1937         4  0.4697   2         -4     0.1728              0.0257      1\n",
       "1938         3  0.0448   1         -2     0.5649              0.0254      0\n",
       "1939         1  0.7149   3          9     0.2688              0.0253      1\n",
       "1940         4  0.7759   4          7     0.9258              0.0252      1\n",
       "\n",
       "[1941 rows x 7 columns]"
      ]
     },
     "execution_count": 30,
     "metadata": {},
     "output_type": "execute_result"
    }
   ],
   "source": [
    "import pandas as pd\n",
    "import numpy as np\n",
    "df=pd.read_csv(\"C://Users//hp//Desktop//ML Project Pipe//pipe1.csv\")\n",
    "df"
   ]
  },
  {
   "cell_type": "code",
   "execution_count": 31,
   "id": "fa7d54b0",
   "metadata": {},
   "outputs": [
    {
     "data": {
      "text/plain": [
       "<bound method NDFrame.describe of       material    tomr  cf  c_wave_no  cd_radial  cw_circumferencial  crack\n",
       "0            3  0.4217   2          1     0.6131              0.9991      1\n",
       "1            6  0.7629   4         -2     0.3846              0.9982      1\n",
       "2            5  0.1898   1         -7     0.6917              0.9982      1\n",
       "3            2  0.4062   2         -2     0.5927              0.9980      1\n",
       "4            6  0.8078   4        -10     0.9345              0.9980      1\n",
       "...        ...     ...  ..        ...        ...                 ...    ...\n",
       "1936         4  0.7451   3        -11     0.8008              0.0258      1\n",
       "1937         4  0.4697   2         -4     0.1728              0.0257      1\n",
       "1938         3  0.0448   1         -2     0.5649              0.0254      0\n",
       "1939         1  0.7149   3          9     0.2688              0.0253      1\n",
       "1940         4  0.7759   4          7     0.9258              0.0252      1\n",
       "\n",
       "[1941 rows x 7 columns]>"
      ]
     },
     "execution_count": 31,
     "metadata": {},
     "output_type": "execute_result"
    }
   ],
   "source": [
    "df.describe"
   ]
  },
  {
   "cell_type": "code",
   "execution_count": 32,
   "id": "22cc1961",
   "metadata": {},
   "outputs": [
    {
     "data": {
      "text/plain": [
       "(1941, 7)"
      ]
     },
     "execution_count": 32,
     "metadata": {},
     "output_type": "execute_result"
    }
   ],
   "source": [
    "df.shape\n"
   ]
  },
  {
   "cell_type": "code",
   "execution_count": 33,
   "id": "7bac3817",
   "metadata": {},
   "outputs": [],
   "source": [
    "import pandas as pd\n",
    "import numpy as np\n",
    "from sklearn import preprocessing\n",
    "import matplotlib.pyplot as plt \n",
    "plt.rc(\"font\", size=14)\n",
    "from sklearn.linear_model import LogisticRegression\n",
    "from sklearn.model_selection import train_test_split\n",
    "import seaborn as sns\n",
    "sns.set(style=\"white\")\n",
    "sns.set(style=\"whitegrid\", color_codes=True)"
   ]
  },
  {
   "cell_type": "code",
   "execution_count": 34,
   "id": "d15624c2",
   "metadata": {},
   "outputs": [
    {
     "name": "stdout",
     "output_type": "stream",
     "text": [
      "(1941, 7)\n",
      "['material', 'tomr', 'cf', 'c_wave_no', 'cd_radial', 'cw_circumferencial', 'crack']\n"
     ]
    }
   ],
   "source": [
    "data = pd.read_csv('C://Users//hp//Desktop//ML Project Pipe//pipe.csv', header=0)\n",
    "data = data.dropna()\n",
    "print(data.shape)\n",
    "print(list(data.columns))"
   ]
  },
  {
   "cell_type": "code",
   "execution_count": 35,
   "id": "4932d386",
   "metadata": {},
   "outputs": [
    {
     "data": {
      "text/html": [
       "<div>\n",
       "<style scoped>\n",
       "    .dataframe tbody tr th:only-of-type {\n",
       "        vertical-align: middle;\n",
       "    }\n",
       "\n",
       "    .dataframe tbody tr th {\n",
       "        vertical-align: top;\n",
       "    }\n",
       "\n",
       "    .dataframe thead th {\n",
       "        text-align: right;\n",
       "    }\n",
       "</style>\n",
       "<table border=\"1\" class=\"dataframe\">\n",
       "  <thead>\n",
       "    <tr style=\"text-align: right;\">\n",
       "      <th></th>\n",
       "      <th>material</th>\n",
       "      <th>tomr</th>\n",
       "      <th>cf</th>\n",
       "      <th>c_wave_no</th>\n",
       "      <th>cd_radial</th>\n",
       "      <th>cw_circumferencial</th>\n",
       "      <th>crack</th>\n",
       "    </tr>\n",
       "  </thead>\n",
       "  <tbody>\n",
       "    <tr>\n",
       "      <th>0</th>\n",
       "      <td>2</td>\n",
       "      <td>0.8488</td>\n",
       "      <td>2</td>\n",
       "      <td>3</td>\n",
       "      <td>0.6106</td>\n",
       "      <td>0.2070</td>\n",
       "      <td>1</td>\n",
       "    </tr>\n",
       "    <tr>\n",
       "      <th>1</th>\n",
       "      <td>4</td>\n",
       "      <td>0.8316</td>\n",
       "      <td>1</td>\n",
       "      <td>-8</td>\n",
       "      <td>0.8701</td>\n",
       "      <td>0.6067</td>\n",
       "      <td>0</td>\n",
       "    </tr>\n",
       "    <tr>\n",
       "      <th>2</th>\n",
       "      <td>4</td>\n",
       "      <td>0.1553</td>\n",
       "      <td>1</td>\n",
       "      <td>6</td>\n",
       "      <td>0.3701</td>\n",
       "      <td>0.1110</td>\n",
       "      <td>1</td>\n",
       "    </tr>\n",
       "    <tr>\n",
       "      <th>3</th>\n",
       "      <td>5</td>\n",
       "      <td>0.9015</td>\n",
       "      <td>4</td>\n",
       "      <td>-2</td>\n",
       "      <td>0.2415</td>\n",
       "      <td>0.6505</td>\n",
       "      <td>1</td>\n",
       "    </tr>\n",
       "    <tr>\n",
       "      <th>4</th>\n",
       "      <td>5</td>\n",
       "      <td>0.2654</td>\n",
       "      <td>2</td>\n",
       "      <td>6</td>\n",
       "      <td>0.8359</td>\n",
       "      <td>0.8717</td>\n",
       "      <td>0</td>\n",
       "    </tr>\n",
       "  </tbody>\n",
       "</table>\n",
       "</div>"
      ],
      "text/plain": [
       "   material    tomr  cf  c_wave_no  cd_radial  cw_circumferencial  crack\n",
       "0         2  0.8488   2          3     0.6106              0.2070      1\n",
       "1         4  0.8316   1         -8     0.8701              0.6067      0\n",
       "2         4  0.1553   1          6     0.3701              0.1110      1\n",
       "3         5  0.9015   4         -2     0.2415              0.6505      1\n",
       "4         5  0.2654   2          6     0.8359              0.8717      0"
      ]
     },
     "execution_count": 35,
     "metadata": {},
     "output_type": "execute_result"
    }
   ],
   "source": [
    "data.head()"
   ]
  },
  {
   "cell_type": "code",
   "execution_count": 36,
   "id": "0c1c0c23",
   "metadata": {},
   "outputs": [
    {
     "data": {
      "text/plain": [
       "array([0.8488, 0.8316, 0.1553, ..., 0.8303, 0.863 , 0.9146])"
      ]
     },
     "execution_count": 36,
     "metadata": {},
     "output_type": "execute_result"
    }
   ],
   "source": [
    "data['tomr'].unique()"
   ]
  },
  {
   "cell_type": "code",
   "execution_count": 37,
   "id": "062ce954",
   "metadata": {},
   "outputs": [
    {
     "data": {
      "text/plain": [
       "array([  3,  -8,   6,  -2, -10,   9,   5,  -3,  10,  -9,   7,  -4,  -5,\n",
       "        -7,   2,  -6,  -1, -11,  11,   8,   0,   1,   4], dtype=int64)"
      ]
     },
     "execution_count": 37,
     "metadata": {},
     "output_type": "execute_result"
    }
   ],
   "source": [
    "data['c_wave_no'].unique()"
   ]
  },
  {
   "cell_type": "code",
   "execution_count": 38,
   "id": "2c76b95a",
   "metadata": {},
   "outputs": [
    {
     "data": {
      "text/plain": [
       "array([0.6106, 0.8701, 0.3701, ..., 0.714 , 0.0931, 0.9466])"
      ]
     },
     "execution_count": 38,
     "metadata": {},
     "output_type": "execute_result"
    }
   ],
   "source": [
    "data['cd_radial'].unique()"
   ]
  },
  {
   "cell_type": "code",
   "execution_count": 39,
   "id": "ab73fcde",
   "metadata": {},
   "outputs": [
    {
     "data": {
      "text/plain": [
       "array([0.207 , 0.6067, 0.111 , ..., 0.8553, 0.5016, 0.0801])"
      ]
     },
     "execution_count": 39,
     "metadata": {},
     "output_type": "execute_result"
    }
   ],
   "source": [
    "data['cw_circumferencial'].unique()"
   ]
  },
  {
   "cell_type": "code",
   "execution_count": 40,
   "id": "c69880ac",
   "metadata": {},
   "outputs": [
    {
     "data": {
      "image/png": "[encoded data removed]",
      "text/plain": [
       "<Figure size 432x288 with 1 Axes>"
      ]
     },
     "metadata": {},
     "output_type": "display_data"
    },
    {
     "data": {
      "text/plain": [
       "<Figure size 432x288 with 0 Axes>"
      ]
     },
     "metadata": {},
     "output_type": "display_data"
    }
   ],
   "source": [
    "data['crack'].value_counts()\n",
    "sns.countplot(x='crack',data=data, palette='hls')\n",
    "plt.show()\n",
    "plt.savefig('count_plot')"
   ]
  },
  {
   "cell_type": "code",
   "execution_count": 41,
   "id": "e87d8c9b",
   "metadata": {},
   "outputs": [
    {
     "data": {
      "text/html": [
       "<div>\n",
       "<style scoped>\n",
       "    .dataframe tbody tr th:only-of-type {\n",
       "        vertical-align: middle;\n",
       "    }\n",
       "\n",
       "    .dataframe tbody tr th {\n",
       "        vertical-align: top;\n",
       "    }\n",
       "\n",
       "    .dataframe thead th {\n",
       "        text-align: right;\n",
       "    }\n",
       "</style>\n",
       "<table border=\"1\" class=\"dataframe\">\n",
       "  <thead>\n",
       "    <tr style=\"text-align: right;\">\n",
       "      <th></th>\n",
       "      <th>material</th>\n",
       "      <th>tomr</th>\n",
       "      <th>cf</th>\n",
       "      <th>c_wave_no</th>\n",
       "      <th>cd_radial</th>\n",
       "      <th>cw_circumferencial</th>\n",
       "    </tr>\n",
       "    <tr>\n",
       "      <th>crack</th>\n",
       "      <th></th>\n",
       "      <th></th>\n",
       "      <th></th>\n",
       "      <th></th>\n",
       "      <th></th>\n",
       "      <th></th>\n",
       "    </tr>\n",
       "  </thead>\n",
       "  <tbody>\n",
       "    <tr>\n",
       "      <th>0</th>\n",
       "      <td>3.561422</td>\n",
       "      <td>0.506541</td>\n",
       "      <td>2.553879</td>\n",
       "      <td>-0.191810</td>\n",
       "      <td>0.506990</td>\n",
       "      <td>0.510127</td>\n",
       "    </tr>\n",
       "    <tr>\n",
       "      <th>1</th>\n",
       "      <td>3.441264</td>\n",
       "      <td>0.519742</td>\n",
       "      <td>2.470879</td>\n",
       "      <td>-0.234946</td>\n",
       "      <td>0.508227</td>\n",
       "      <td>0.500778</td>\n",
       "    </tr>\n",
       "  </tbody>\n",
       "</table>\n",
       "</div>"
      ],
      "text/plain": [
       "       material      tomr        cf  c_wave_no  cd_radial  cw_circumferencial\n",
       "crack                                                                        \n",
       "0      3.561422  0.506541  2.553879  -0.191810   0.506990            0.510127\n",
       "1      3.441264  0.519742  2.470879  -0.234946   0.508227            0.500778"
      ]
     },
     "execution_count": 41,
     "metadata": {},
     "output_type": "execute_result"
    }
   ],
   "source": [
    "data.groupby('crack').mean()"
   ]
  },
  {
   "cell_type": "code",
   "execution_count": 42,
   "id": "776549ba",
   "metadata": {},
   "outputs": [],
   "source": [
    "# drop features\n",
    "X=data.drop(['crack'],axis=1)\n",
    "y=data['crack']"
   ]
  },
  {
   "cell_type": "code",
   "execution_count": 43,
   "id": "f1a78f2a",
   "metadata": {},
   "outputs": [
    {
     "name": "stdout",
     "output_type": "stream",
     "text": [
      "Optimization terminated successfully.\n",
      "         Current function value: 0.691237\n",
      "         Iterations 4\n",
      "                           Logit Regression Results                           \n",
      "==============================================================================\n",
      "Dep. Variable:                  crack   No. Observations:                 1941\n",
      "Model:                          Logit   Df Residuals:                     1935\n",
      "Method:                           MLE   Df Model:                            5\n",
      "Date:                Thu, 16 Mar 2023   Pseudo R-squ.:                0.001374\n",
      "Time:                        11:42:53   Log-Likelihood:                -1341.7\n",
      "converged:                       True   LL-Null:                       -1343.5\n",
      "Covariance Type:            nonrobust   LLR p-value:                    0.5944\n",
      "======================================================================================\n",
      "                         coef    std err          z      P>|z|      [0.025      0.975]\n",
      "--------------------------------------------------------------------------------------\n",
      "material              -0.0183      0.023     -0.788      0.431      -0.064       0.027\n",
      "tomr                   0.2925      0.149      1.968      0.049       0.001       0.584\n",
      "cf                    -0.0341      0.035     -0.962      0.336      -0.103       0.035\n",
      "c_wave_no             -0.0012      0.007     -0.174      0.862      -0.015       0.012\n",
      "cd_radial              0.1479      0.151      0.977      0.329      -0.149       0.445\n",
      "cw_circumferencial    -0.0132      0.148     -0.089      0.929      -0.304       0.278\n",
      "======================================================================================\n"
     ]
    }
   ],
   "source": [
    "import statsmodels.api as sm\n",
    "logit_model=sm.Logit(y,X)\n",
    "result=logit_model.fit()\n",
    "print(result.summary())"
   ]
  },
  {
   "cell_type": "code",
   "execution_count": 44,
   "id": "fc448238",
   "metadata": {},
   "outputs": [
    {
     "data": {
      "text/html": [
       "<style>#sk-container-id-2 {color: black;background-color: white;}#sk-container-id-2 pre{padding: 0;}#sk-container-id-2 div.sk-toggleable {background-color: white;}#sk-container-id-2 label.sk-toggleable__label {cursor: pointer;display: block;width: 100%;margin-bottom: 0;padding: 0.3em;box-sizing: border-box;text-align: center;}#sk-container-id-2 label.sk-toggleable__label-arrow:before {content: \"▸\";float: left;margin-right: 0.25em;color: #696969;}#sk-container-id-2 label.sk-toggleable__label-arrow:hover:before {color: black;}#sk-container-id-2 div.sk-estimator:hover label.sk-toggleable__label-arrow:before {color: black;}#sk-container-id-2 div.sk-toggleable__content {max-height: 0;max-width: 0;overflow: hidden;text-align: left;background-color: #f0f8ff;}#sk-container-id-2 div.sk-toggleable__content pre {margin: 0.2em;color: black;border-radius: 0.25em;background-color: #f0f8ff;}#sk-container-id-2 input.sk-toggleable__control:checked~div.sk-toggleable__content {max-height: 200px;max-width: 100%;overflow: auto;}#sk-container-id-2 input.sk-toggleable__control:checked~label.sk-toggleable__label-arrow:before {content: \"▾\";}#sk-container-id-2 div.sk-estimator input.sk-toggleable__control:checked~label.sk-toggleable__label {background-color: #d4ebff;}#sk-container-id-2 div.sk-label input.sk-toggleable__control:checked~label.sk-toggleable__label {background-color: #d4ebff;}#sk-container-id-2 input.sk-hidden--visually {border: 0;clip: rect(1px 1px 1px 1px);clip: rect(1px, 1px, 1px, 1px);height: 1px;margin: -1px;overflow: hidden;padding: 0;position: absolute;width: 1px;}#sk-container-id-2 div.sk-estimator {font-family: monospace;background-color: #f0f8ff;border: 1px dotted black;border-radius: 0.25em;box-sizing: border-box;margin-bottom: 0.5em;}#sk-container-id-2 div.sk-estimator:hover {background-color: #d4ebff;}#sk-container-id-2 div.sk-parallel-item::after {content: \"\";width: 100%;border-bottom: 1px solid gray;flex-grow: 1;}#sk-container-id-2 div.sk-label:hover label.sk-toggleable__label {background-color: #d4ebff;}#sk-container-id-2 div.sk-serial::before {content: \"\";position: absolute;border-left: 1px solid gray;box-sizing: border-box;top: 0;bottom: 0;left: 50%;z-index: 0;}#sk-container-id-2 div.sk-serial {display: flex;flex-direction: column;align-items: center;background-color: white;padding-right: 0.2em;padding-left: 0.2em;position: relative;}#sk-container-id-2 div.sk-item {position: relative;z-index: 1;}#sk-container-id-2 div.sk-parallel {display: flex;align-items: stretch;justify-content: center;background-color: white;position: relative;}#sk-container-id-2 div.sk-item::before, #sk-container-id-2 div.sk-parallel-item::before {content: \"\";position: absolute;border-left: 1px solid gray;box-sizing: border-box;top: 0;bottom: 0;left: 50%;z-index: -1;}#sk-container-id-2 div.sk-parallel-item {display: flex;flex-direction: column;z-index: 1;position: relative;background-color: white;}#sk-container-id-2 div.sk-parallel-item:first-child::after {align-self: flex-end;width: 50%;}#sk-container-id-2 div.sk-parallel-item:last-child::after {align-self: flex-start;width: 50%;}#sk-container-id-2 div.sk-parallel-item:only-child::after {width: 0;}#sk-container-id-2 div.sk-dashed-wrapped {border: 1px dashed gray;margin: 0 0.4em 0.5em 0.4em;box-sizing: border-box;padding-bottom: 0.4em;background-color: white;}#sk-container-id-2 div.sk-label label {font-family: monospace;font-weight: bold;display: inline-block;line-height: 1.2em;}#sk-container-id-2 div.sk-label-container {text-align: center;}#sk-container-id-2 div.sk-container {/* jupyter's `normalize.less` sets `[hidden] { display: none; }` but bootstrap.min.css set `[hidden] { display: none !important; }` so we also need the `!important` here to be able to override the default hidden behavior on the sphinx rendered scikit-learn.org. See: https://github.com/scikit-learn/scikit-learn/issues/21755 */display: inline-block !important;position: relative;}#sk-container-id-2 div.sk-text-repr-fallback {display: none;}</style><div id=\"sk-container-id-2\" class=\"sk-top-container\"><div class=\"sk-text-repr-fallback\"><pre>LogisticRegression()</pre><b>In a Jupyter environment, please rerun this cell to show the HTML representation or trust the notebook. <br />On GitHub, the HTML representation is unable to render, please try loading this page with nbviewer.org.</b></div><div class=\"sk-container\" hidden><div class=\"sk-item\"><div class=\"sk-estimator sk-toggleable\"><input class=\"sk-toggleable__control sk-hidden--visually\" id=\"sk-estimator-id-2\" type=\"checkbox\" checked><label for=\"sk-estimator-id-2\" class=\"sk-toggleable__label sk-toggleable__label-arrow\">LogisticRegression</label><div class=\"sk-toggleable__content\"><pre>LogisticRegression()</pre></div></div></div></div></div>"
      ],
      "text/plain": [
       "LogisticRegression()"
      ]
     },
     "execution_count": 44,
     "metadata": {},
     "output_type": "execute_result"
    }
   ],
   "source": [
    "X_train, X_test, y_train, y_test = train_test_split(X, y, test_size=0.3, random_state=0)\n",
    "from sklearn.linear_model import LogisticRegression\n",
    "from sklearn import metrics\n",
    "logreg = LogisticRegression()\n",
    "logreg.fit(X_train, y_train)"
   ]
  },
  {
   "cell_type": "code",
   "execution_count": 45,
   "id": "be5ea3ed",
   "metadata": {},
   "outputs": [],
   "source": [
    "y_pred = logreg.predict(X_test)"
   ]
  },
  {
   "cell_type": "code",
   "execution_count": 46,
   "id": "50ae5aee",
   "metadata": {
    "scrolled": true
   },
   "outputs": [
    {
     "name": "stdout",
     "output_type": "stream",
     "text": [
      "Accuracy of logistic regression classifier on test set: 0.49\n"
     ]
    }
   ],
   "source": [
    "print('Accuracy of logistic regression classifier on test set: {:.2f}'.format(logreg.score(X_test, y_test)))"
   ]
  },
  {
   "cell_type": "code",
   "execution_count": 47,
   "id": "c0aaab52",
   "metadata": {},
   "outputs": [
    {
     "name": "stdout",
     "output_type": "stream",
     "text": [
      "10-fold cross validation average accuracy: 0.535\n"
     ]
    }
   ],
   "source": [
    "from sklearn import model_selection\n",
    "from sklearn.model_selection import cross_val_score\n",
    "kfold = model_selection.KFold(n_splits=10, random_state=None)\n",
    "modelCV = LogisticRegression()\n",
    "scoring = 'accuracy'\n",
    "results = model_selection.cross_val_score(modelCV, X_train, y_train, cv=kfold, scoring=scoring)\n",
    "print(\"10-fold cross validation average accuracy: %.3f\" % (results.mean()))"
   ]
  },
  {
   "cell_type": "code",
   "execution_count": 48,
   "id": "118fcc0d",
   "metadata": {},
   "outputs": [
    {
     "name": "stdout",
     "output_type": "stream",
     "text": [
      "              precision    recall  f1-score   support\n",
      "\n",
      "           0       0.44      0.33      0.38       276\n",
      "           1       0.51      0.63      0.56       307\n",
      "\n",
      "    accuracy                           0.49       583\n",
      "   macro avg       0.48      0.48      0.47       583\n",
      "weighted avg       0.48      0.49      0.48       583\n",
      "\n"
     ]
    }
   ],
   "source": [
    "from sklearn.metrics import classification_report\n",
    "print(classification_report(y_test, y_pred))"
   ]
  },
  {
   "cell_type": "code",
   "execution_count": null,
   "id": "005ef457",
   "metadata": {},
   "outputs": [],
   "source": []
  },
  {
   "cell_type": "code",
   "execution_count": 49,
   "id": "9e0d016d",
   "metadata": {},
   "outputs": [],
   "source": [
    "import pandas as pd\n",
    "import numpy as np\n",
    "import seaborn as sns\n",
    "from sklearn.model_selection import train_test_split\n",
    "from sklearn.preprocessing import MinMaxScaler\n",
    "from sklearn.metrics import accuracy_score, classification_report, confusion_matrix, precision_score, f1_score, recall_score\n",
    "from sklearn.model_selection import cross_val_score, cross_val_predict\n",
    "from sklearn.naive_bayes import MultinomialNB\n",
    "from sklearn.svm import LinearSVC, SVC\n",
    "from sklearn.linear_model import LogisticRegression\n",
    "from sklearn.ensemble import GradientBoostingClassifier, RandomForestClassifier, AdaBoostClassifier, VotingClassifier\n",
    "import matplotlib.pyplot as plt\n",
    "\n",
    "sns.set()"
   ]
  },
  {
   "cell_type": "code",
   "execution_count": 50,
   "id": "f6f3933b",
   "metadata": {},
   "outputs": [
    {
     "data": {
      "text/html": [
       "<div>\n",
       "<style scoped>\n",
       "    .dataframe tbody tr th:only-of-type {\n",
       "        vertical-align: middle;\n",
       "    }\n",
       "\n",
       "    .dataframe tbody tr th {\n",
       "        vertical-align: top;\n",
       "    }\n",
       "\n",
       "    .dataframe thead th {\n",
       "        text-align: right;\n",
       "    }\n",
       "</style>\n",
       "<table border=\"1\" class=\"dataframe\">\n",
       "  <thead>\n",
       "    <tr style=\"text-align: right;\">\n",
       "      <th></th>\n",
       "      <th>material</th>\n",
       "      <th>tomr</th>\n",
       "      <th>cf</th>\n",
       "      <th>c_wave_no</th>\n",
       "      <th>cd_radial</th>\n",
       "      <th>cw_circumferencial</th>\n",
       "      <th>crack</th>\n",
       "    </tr>\n",
       "  </thead>\n",
       "  <tbody>\n",
       "    <tr>\n",
       "      <th>0</th>\n",
       "      <td>2</td>\n",
       "      <td>0.8488</td>\n",
       "      <td>2</td>\n",
       "      <td>3</td>\n",
       "      <td>0.6106</td>\n",
       "      <td>0.2070</td>\n",
       "      <td>1</td>\n",
       "    </tr>\n",
       "    <tr>\n",
       "      <th>1</th>\n",
       "      <td>4</td>\n",
       "      <td>0.8316</td>\n",
       "      <td>1</td>\n",
       "      <td>-8</td>\n",
       "      <td>0.8701</td>\n",
       "      <td>0.6067</td>\n",
       "      <td>0</td>\n",
       "    </tr>\n",
       "    <tr>\n",
       "      <th>2</th>\n",
       "      <td>4</td>\n",
       "      <td>0.1553</td>\n",
       "      <td>1</td>\n",
       "      <td>6</td>\n",
       "      <td>0.3701</td>\n",
       "      <td>0.1110</td>\n",
       "      <td>1</td>\n",
       "    </tr>\n",
       "    <tr>\n",
       "      <th>3</th>\n",
       "      <td>5</td>\n",
       "      <td>0.9015</td>\n",
       "      <td>4</td>\n",
       "      <td>-2</td>\n",
       "      <td>0.2415</td>\n",
       "      <td>0.6505</td>\n",
       "      <td>1</td>\n",
       "    </tr>\n",
       "    <tr>\n",
       "      <th>4</th>\n",
       "      <td>5</td>\n",
       "      <td>0.2654</td>\n",
       "      <td>2</td>\n",
       "      <td>6</td>\n",
       "      <td>0.8359</td>\n",
       "      <td>0.8717</td>\n",
       "      <td>0</td>\n",
       "    </tr>\n",
       "    <tr>\n",
       "      <th>...</th>\n",
       "      <td>...</td>\n",
       "      <td>...</td>\n",
       "      <td>...</td>\n",
       "      <td>...</td>\n",
       "      <td>...</td>\n",
       "      <td>...</td>\n",
       "      <td>...</td>\n",
       "    </tr>\n",
       "    <tr>\n",
       "      <th>1936</th>\n",
       "      <td>1</td>\n",
       "      <td>0.8581</td>\n",
       "      <td>3</td>\n",
       "      <td>-6</td>\n",
       "      <td>0.1556</td>\n",
       "      <td>0.2723</td>\n",
       "      <td>0</td>\n",
       "    </tr>\n",
       "    <tr>\n",
       "      <th>1937</th>\n",
       "      <td>2</td>\n",
       "      <td>0.7158</td>\n",
       "      <td>4</td>\n",
       "      <td>-5</td>\n",
       "      <td>0.7140</td>\n",
       "      <td>0.9152</td>\n",
       "      <td>0</td>\n",
       "    </tr>\n",
       "    <tr>\n",
       "      <th>1938</th>\n",
       "      <td>5</td>\n",
       "      <td>0.8303</td>\n",
       "      <td>3</td>\n",
       "      <td>-10</td>\n",
       "      <td>0.0931</td>\n",
       "      <td>0.8553</td>\n",
       "      <td>1</td>\n",
       "    </tr>\n",
       "    <tr>\n",
       "      <th>1939</th>\n",
       "      <td>3</td>\n",
       "      <td>0.8630</td>\n",
       "      <td>3</td>\n",
       "      <td>-6</td>\n",
       "      <td>0.9466</td>\n",
       "      <td>0.5016</td>\n",
       "      <td>0</td>\n",
       "    </tr>\n",
       "    <tr>\n",
       "      <th>1940</th>\n",
       "      <td>2</td>\n",
       "      <td>0.9146</td>\n",
       "      <td>1</td>\n",
       "      <td>-3</td>\n",
       "      <td>0.7821</td>\n",
       "      <td>0.0801</td>\n",
       "      <td>0</td>\n",
       "    </tr>\n",
       "  </tbody>\n",
       "</table>\n",
       "<p>1941 rows × 7 columns</p>\n",
       "</div>"
      ],
      "text/plain": [
       "      material    tomr  cf  c_wave_no  cd_radial  cw_circumferencial  crack\n",
       "0            2  0.8488   2          3     0.6106              0.2070      1\n",
       "1            4  0.8316   1         -8     0.8701              0.6067      0\n",
       "2            4  0.1553   1          6     0.3701              0.1110      1\n",
       "3            5  0.9015   4         -2     0.2415              0.6505      1\n",
       "4            5  0.2654   2          6     0.8359              0.8717      0\n",
       "...        ...     ...  ..        ...        ...                 ...    ...\n",
       "1936         1  0.8581   3         -6     0.1556              0.2723      0\n",
       "1937         2  0.7158   4         -5     0.7140              0.9152      0\n",
       "1938         5  0.8303   3        -10     0.0931              0.8553      1\n",
       "1939         3  0.8630   3         -6     0.9466              0.5016      0\n",
       "1940         2  0.9146   1         -3     0.7821              0.0801      0\n",
       "\n",
       "[1941 rows x 7 columns]"
      ]
     },
     "execution_count": 50,
     "metadata": {},
     "output_type": "execute_result"
    }
   ],
   "source": [
    "import pandas as pd\n",
    "import numpy as np\n",
    "df1=pd.read_csv(\"C://Users//hp//Desktop//ML Project Pipe//pipe.csv\")\n",
    "df1"
   ]
  },
  {
   "cell_type": "code",
   "execution_count": 51,
   "id": "ba600369",
   "metadata": {},
   "outputs": [
    {
     "name": "stdout",
     "output_type": "stream",
     "text": [
      "material              0\n",
      "tomr                  0\n",
      "cf                    0\n",
      "c_wave_no             0\n",
      "cd_radial             0\n",
      "cw_circumferencial    0\n",
      "crack                 0\n",
      "dtype: int64\n"
     ]
    }
   ],
   "source": [
    "n=df.isnull().sum()\n",
    "print(n)\n",
    "df=df.dropna()"
   ]
  },
  {
   "cell_type": "code",
   "execution_count": 52,
   "id": "b89eef13",
   "metadata": {},
   "outputs": [
    {
     "data": {
      "text/plain": [
       "<AxesSubplot:xlabel='crack', ylabel='count'>"
      ]
     },
     "execution_count": 52,
     "metadata": {},
     "output_type": "execute_result"
    },
    {
     "data": {
      "image/png": "[encoded data removed]",
      "text/plain": [
       "<Figure size 432x288 with 1 Axes>"
      ]
     },
     "metadata": {},
     "output_type": "display_data"
    }
   ],
   "source": [
    "sns.countplot(x='crack', data=df1)"
   ]
  },
  {
   "cell_type": "code",
   "execution_count": 53,
   "id": "5164c4d2",
   "metadata": {},
   "outputs": [],
   "source": [
    "# drop features\n",
    "X=data.drop(['crack'],axis=1)\n",
    "y=data['crack']\n",
    "X_train, X_test, y_train, y_test = train_test_split(X, y, test_size=0.3, random_state=0)"
   ]
  },
  {
   "cell_type": "code",
   "execution_count": 54,
   "id": "0c65037b",
   "metadata": {},
   "outputs": [
    {
     "name": "stdout",
     "output_type": "stream",
     "text": [
      "Accuracy:  48.713550600343055 %\n",
      "              precision    recall  f1-score   support\n",
      "\n",
      "           0       0.44      0.33      0.38       276\n",
      "           1       0.51      0.63      0.56       307\n",
      "\n",
      "    accuracy                           0.49       583\n",
      "   macro avg       0.48      0.48      0.47       583\n",
      "weighted avg       0.48      0.49      0.48       583\n",
      "\n"
     ]
    }
   ],
   "source": [
    "lr = LogisticRegression(C=1,max_iter=100)\n",
    "lr.fit(X_train, y_train)\n",
    "y_pred1 = lr.predict(X_test)\n",
    "print(f\"Accuracy: \", accuracy_score(y_pred1, y_test)*100,'%')\n",
    "print(classification_report(y_test, y_pred1))"
   ]
  }
 ],
 "metadata": {
  "kernelspec": {
   "display_name": "Python 3",
   "language": "python",
   "name": "python3"
  },
  "language_info": {
   "codemirror_mode": {
    "name": "ipython",
    "version": 3
   },
   "file_extension": ".py",
   "mimetype": "text/x-python",
   "name": "python",
   "nbconvert_exporter": "python",
   "pygments_lexer": "ipython3",
   "version": "3.8.8"
  }
 },
 "nbformat": 4,
 "nbformat_minor": 5
}
