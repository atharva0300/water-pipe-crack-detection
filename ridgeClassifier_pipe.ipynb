{
 "cells": [
  {
   "cell_type": "code",
   "execution_count": 1,
   "metadata": {},
   "outputs": [],
   "source": [
    "from sklearn.linear_model import RidgeClassifier\n",
    "from sklearn.datasets import make_classification\n",
    "from sklearn.model_selection import train_test_split\n",
    "from sklearn.model_selection import cross_val_score\n",
    "from sklearn.metrics import confusion_matrix\n",
    "from sklearn.metrics import classification_report"
   ]
  },
  {
   "cell_type": "code",
   "execution_count": 2,
   "metadata": {},
   "outputs": [
    {
     "data": {
      "text/html": [
       "<div>\n",
       "<style scoped>\n",
       "    .dataframe tbody tr th:only-of-type {\n",
       "        vertical-align: middle;\n",
       "    }\n",
       "\n",
       "    .dataframe tbody tr th {\n",
       "        vertical-align: top;\n",
       "    }\n",
       "\n",
       "    .dataframe thead th {\n",
       "        text-align: right;\n",
       "    }\n",
       "</style>\n",
       "<table border=\"1\" class=\"dataframe\">\n",
       "  <thead>\n",
       "    <tr style=\"text-align: right;\">\n",
       "      <th></th>\n",
       "      <th>material</th>\n",
       "      <th>tomr</th>\n",
       "      <th>cf</th>\n",
       "      <th>c_wave_no</th>\n",
       "      <th>cd_radial</th>\n",
       "      <th>cw_circumferencial</th>\n",
       "      <th>crack</th>\n",
       "    </tr>\n",
       "  </thead>\n",
       "  <tbody>\n",
       "    <tr>\n",
       "      <th>0</th>\n",
       "      <td>3</td>\n",
       "      <td>0.4217</td>\n",
       "      <td>2</td>\n",
       "      <td>1</td>\n",
       "      <td>0.6131</td>\n",
       "      <td>0.9991</td>\n",
       "      <td>1</td>\n",
       "    </tr>\n",
       "    <tr>\n",
       "      <th>1</th>\n",
       "      <td>6</td>\n",
       "      <td>0.7629</td>\n",
       "      <td>4</td>\n",
       "      <td>-2</td>\n",
       "      <td>0.3846</td>\n",
       "      <td>0.9982</td>\n",
       "      <td>1</td>\n",
       "    </tr>\n",
       "    <tr>\n",
       "      <th>2</th>\n",
       "      <td>5</td>\n",
       "      <td>0.1898</td>\n",
       "      <td>1</td>\n",
       "      <td>-7</td>\n",
       "      <td>0.6917</td>\n",
       "      <td>0.9982</td>\n",
       "      <td>1</td>\n",
       "    </tr>\n",
       "    <tr>\n",
       "      <th>3</th>\n",
       "      <td>2</td>\n",
       "      <td>0.4062</td>\n",
       "      <td>2</td>\n",
       "      <td>-2</td>\n",
       "      <td>0.5927</td>\n",
       "      <td>0.9980</td>\n",
       "      <td>1</td>\n",
       "    </tr>\n",
       "    <tr>\n",
       "      <th>4</th>\n",
       "      <td>6</td>\n",
       "      <td>0.8078</td>\n",
       "      <td>4</td>\n",
       "      <td>-10</td>\n",
       "      <td>0.9345</td>\n",
       "      <td>0.9980</td>\n",
       "      <td>1</td>\n",
       "    </tr>\n",
       "  </tbody>\n",
       "</table>\n",
       "</div>"
      ],
      "text/plain": [
       "   material    tomr  cf  c_wave_no  cd_radial  cw_circumferencial  crack\n",
       "0         3  0.4217   2          1     0.6131              0.9991      1\n",
       "1         6  0.7629   4         -2     0.3846              0.9982      1\n",
       "2         5  0.1898   1         -7     0.6917              0.9982      1\n",
       "3         2  0.4062   2         -2     0.5927              0.9980      1\n",
       "4         6  0.8078   4        -10     0.9345              0.9980      1"
      ]
     },
     "execution_count": 2,
     "metadata": {},
     "output_type": "execute_result"
    }
   ],
   "source": [
    "import pandas as pd\n",
    "\n",
    "dataset = pd.read_csv('pipe2.csv')\n",
    "dataset.head()"
   ]
  },
  {
   "cell_type": "code",
   "execution_count": 3,
   "metadata": {},
   "outputs": [
    {
     "data": {
      "text/plain": [
       "array([1, 1, 1, ..., 0, 1, 1])"
      ]
     },
     "execution_count": 3,
     "metadata": {},
     "output_type": "execute_result"
    }
   ],
   "source": [
    "Y = dataset.crack.to_numpy()\n",
    "Y"
   ]
  },
  {
   "cell_type": "code",
   "execution_count": 4,
   "metadata": {},
   "outputs": [
    {
     "data": {
      "text/plain": [
       "array([[ 3.    ,  0.4217,  2.    ,  1.    ,  0.6131,  0.9991],\n",
       "       [ 6.    ,  0.7629,  4.    , -2.    ,  0.3846,  0.9982],\n",
       "       [ 5.    ,  0.1898,  1.    , -7.    ,  0.6917,  0.9982],\n",
       "       ...,\n",
       "       [ 3.    ,  0.0448,  1.    , -2.    ,  0.5649,  0.0254],\n",
       "       [ 1.    ,  0.7149,  3.    ,  9.    ,  0.2688,  0.0253],\n",
       "       [ 4.    ,  0.7759,  4.    ,  7.    ,  0.9258,  0.0252]])"
      ]
     },
     "execution_count": 4,
     "metadata": {},
     "output_type": "execute_result"
    }
   ],
   "source": [
    "X = dataset.drop(['crack'] , axis=1).to_numpy()\n",
    "X"
   ]
  },
  {
   "cell_type": "code",
   "execution_count": 5,
   "metadata": {},
   "outputs": [
    {
     "name": "stdout",
     "output_type": "stream",
     "text": [
      "RidgeClassifier()\n",
      "Score:  0.7289266221952698\n"
     ]
    }
   ],
   "source": [
    "xtrain, xtest, ytrain, ytest = train_test_split(X, Y, test_size=0.15)\n",
    "\n",
    "rc = RidgeClassifier()\n",
    "print(rc)\n",
    "\n",
    "alpha = \n",
    "\n",
    "RidgeClassifier(alpha=1.0, class_weight=None, copy_X=True, fit_intercept=True,\n",
    "                max_iter=None, random_state=None, solver='auto',\n",
    "                tol=0.001)\n",
    "\n",
    "\n",
    "rc.fit(xtrain, ytrain)\n",
    "score = rc.score(xtrain, ytrain)\n",
    "print(\"Score: \", score)"
   ]
  },
  {
   "cell_type": "code",
   "execution_count": 6,
   "metadata": {},
   "outputs": [
    {
     "name": "stdout",
     "output_type": "stream",
     "text": [
      "CV average score: 0.73\n"
     ]
    }
   ],
   "source": [
    "cv_scores = cross_val_score(rc, xtrain, ytrain, cv=10)\n",
    "print(\"CV average score: %.2f\" % cv_scores.mean())"
   ]
  },
  {
   "cell_type": "code",
   "execution_count": 7,
   "metadata": {},
   "outputs": [
    {
     "name": "stdout",
     "output_type": "stream",
     "text": [
      "[[ 37  54]\n",
      " [ 35 166]]\n"
     ]
    }
   ],
   "source": [
    "ypred = rc.predict(xtest)\n",
    "\n",
    "cm = confusion_matrix(ytest, ypred)\n",
    "print(cm)"
   ]
  },
  {
   "cell_type": "code",
   "execution_count": 8,
   "metadata": {},
   "outputs": [
    {
     "name": "stdout",
     "output_type": "stream",
     "text": [
      "              precision    recall  f1-score   support\n",
      "\n",
      "           0       0.51      0.41      0.45        91\n",
      "           1       0.75      0.83      0.79       201\n",
      "\n",
      "    accuracy                           0.70       292\n",
      "   macro avg       0.63      0.62      0.62       292\n",
      "weighted avg       0.68      0.70      0.68       292\n",
      "\n"
     ]
    }
   ],
   "source": [
    "cr = classification_report(ytest, ypred)\n",
    "print(cr)"
   ]
  },
  {
   "cell_type": "code",
   "execution_count": null,
   "metadata": {},
   "outputs": [],
   "source": []
  }
 ],
 "metadata": {
  "kernelspec": {
   "display_name": "Python 3.9.13 64-bit ('3.9.13')",
   "language": "python",
   "name": "python3"
  },
  "language_info": {
   "codemirror_mode": {
    "name": "ipython",
    "version": 3
   },
   "file_extension": ".py",
   "mimetype": "text/x-python",
   "name": "python",
   "nbconvert_exporter": "python",
   "pygments_lexer": "ipython3",
   "version": "3.9.13"
  },
  "orig_nbformat": 4,
  "vscode": {
   "interpreter": {
    "hash": "d8bd755fbfa39474012af1dcf62cf02074bf23bea310936296c92394dcb00e6c"
   }
  }
 },
 "nbformat": 4,
 "nbformat_minor": 2
}
