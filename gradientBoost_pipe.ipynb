{
 "cells": [
  {
   "cell_type": "code",
   "execution_count": 13,
   "metadata": {},
   "outputs": [],
   "source": [
    "import pandas as pd\n",
    "from sklearn.preprocessing import MinMaxScaler\n",
    "from sklearn.model_selection import train_test_split\n",
    "from sklearn.metrics import classification_report, confusion_matrix\n",
    "from sklearn.ensemble import GradientBoostingClassifier\n",
    "import numpy as np"
   ]
  },
  {
   "cell_type": "code",
   "execution_count": 14,
   "metadata": {},
   "outputs": [
    {
     "data": {
      "text/html": [
       "<div>\n",
       "<style scoped>\n",
       "    .dataframe tbody tr th:only-of-type {\n",
       "        vertical-align: middle;\n",
       "    }\n",
       "\n",
       "    .dataframe tbody tr th {\n",
       "        vertical-align: top;\n",
       "    }\n",
       "\n",
       "    .dataframe thead th {\n",
       "        text-align: right;\n",
       "    }\n",
       "</style>\n",
       "<table border=\"1\" class=\"dataframe\">\n",
       "  <thead>\n",
       "    <tr style=\"text-align: right;\">\n",
       "      <th></th>\n",
       "      <th>Unnamed: 0</th>\n",
       "      <th>material</th>\n",
       "      <th>tomr</th>\n",
       "      <th>cf</th>\n",
       "      <th>c_wave_no</th>\n",
       "      <th>cd_radial</th>\n",
       "      <th>cw_circumferencial</th>\n",
       "      <th>crack</th>\n",
       "    </tr>\n",
       "  </thead>\n",
       "  <tbody>\n",
       "    <tr>\n",
       "      <th>0</th>\n",
       "      <td>0</td>\n",
       "      <td>2</td>\n",
       "      <td>0.8488</td>\n",
       "      <td>2</td>\n",
       "      <td>3</td>\n",
       "      <td>0.6106</td>\n",
       "      <td>0.2070</td>\n",
       "      <td>1</td>\n",
       "    </tr>\n",
       "    <tr>\n",
       "      <th>1</th>\n",
       "      <td>1</td>\n",
       "      <td>4</td>\n",
       "      <td>0.8316</td>\n",
       "      <td>1</td>\n",
       "      <td>-8</td>\n",
       "      <td>0.8701</td>\n",
       "      <td>0.6067</td>\n",
       "      <td>0</td>\n",
       "    </tr>\n",
       "    <tr>\n",
       "      <th>2</th>\n",
       "      <td>2</td>\n",
       "      <td>4</td>\n",
       "      <td>0.1553</td>\n",
       "      <td>1</td>\n",
       "      <td>6</td>\n",
       "      <td>0.3701</td>\n",
       "      <td>0.1110</td>\n",
       "      <td>1</td>\n",
       "    </tr>\n",
       "    <tr>\n",
       "      <th>3</th>\n",
       "      <td>3</td>\n",
       "      <td>5</td>\n",
       "      <td>0.9015</td>\n",
       "      <td>4</td>\n",
       "      <td>-2</td>\n",
       "      <td>0.2415</td>\n",
       "      <td>0.6505</td>\n",
       "      <td>1</td>\n",
       "    </tr>\n",
       "    <tr>\n",
       "      <th>4</th>\n",
       "      <td>4</td>\n",
       "      <td>5</td>\n",
       "      <td>0.2654</td>\n",
       "      <td>2</td>\n",
       "      <td>6</td>\n",
       "      <td>0.8359</td>\n",
       "      <td>0.8717</td>\n",
       "      <td>0</td>\n",
       "    </tr>\n",
       "  </tbody>\n",
       "</table>\n",
       "</div>"
      ],
      "text/plain": [
       "   Unnamed: 0  material    tomr  cf  c_wave_no  cd_radial  cw_circumferencial  \\\n",
       "0           0         2  0.8488   2          3     0.6106              0.2070   \n",
       "1           1         4  0.8316   1         -8     0.8701              0.6067   \n",
       "2           2         4  0.1553   1          6     0.3701              0.1110   \n",
       "3           3         5  0.9015   4         -2     0.2415              0.6505   \n",
       "4           4         5  0.2654   2          6     0.8359              0.8717   \n",
       "\n",
       "   crack  \n",
       "0      1  \n",
       "1      0  \n",
       "2      1  \n",
       "3      1  \n",
       "4      0  "
      ]
     },
     "execution_count": 14,
     "metadata": {},
     "output_type": "execute_result"
    }
   ],
   "source": [
    "dataset = pd.read_csv('pipe.csv')\n",
    "dataset.head()"
   ]
  },
  {
   "cell_type": "code",
   "execution_count": 15,
   "metadata": {},
   "outputs": [
    {
     "data": {
      "text/plain": [
       "array([1, 0, 1, ..., 1, 0, 0])"
      ]
     },
     "execution_count": 15,
     "metadata": {},
     "output_type": "execute_result"
    }
   ],
   "source": [
    "Y = dataset.crack.to_numpy()\n",
    "Y"
   ]
  },
  {
   "cell_type": "code",
   "execution_count": 16,
   "metadata": {},
   "outputs": [
    {
     "data": {
      "text/plain": [
       "array([[ 0.000e+00,  2.000e+00,  8.488e-01, ...,  3.000e+00,  6.106e-01,\n",
       "         2.070e-01],\n",
       "       [ 1.000e+00,  4.000e+00,  8.316e-01, ..., -8.000e+00,  8.701e-01,\n",
       "         6.067e-01],\n",
       "       [ 2.000e+00,  4.000e+00,  1.553e-01, ...,  6.000e+00,  3.701e-01,\n",
       "         1.110e-01],\n",
       "       ...,\n",
       "       [ 1.938e+03,  5.000e+00,  8.303e-01, ..., -1.000e+01,  9.310e-02,\n",
       "         8.553e-01],\n",
       "       [ 1.939e+03,  3.000e+00,  8.630e-01, ..., -6.000e+00,  9.466e-01,\n",
       "         5.016e-01],\n",
       "       [ 1.940e+03,  2.000e+00,  9.146e-01, ..., -3.000e+00,  7.821e-01,\n",
       "         8.010e-02]])"
      ]
     },
     "execution_count": 16,
     "metadata": {},
     "output_type": "execute_result"
    }
   ],
   "source": [
    "X = dataset.drop(['crack'] , axis=1).to_numpy()\n",
    "X"
   ]
  },
  {
   "cell_type": "code",
   "execution_count": 17,
   "metadata": {},
   "outputs": [],
   "source": [
    "# splitting the data\n",
    "X_train , X_test , Y_train , Y_test = train_test_split(X , Y , test_size=0.25)"
   ]
  },
  {
   "cell_type": "code",
   "execution_count": 18,
   "metadata": {},
   "outputs": [],
   "source": [
    "state = 12  \n",
    "test_size = 0.30  \n",
    "  \n",
    "X_train, X_val, y_train, y_val = train_test_split(X_train, Y_train,  \n",
    "    test_size=test_size, random_state=state)"
   ]
  },
  {
   "cell_type": "code",
   "execution_count": 20,
   "metadata": {},
   "outputs": [
    {
     "name": "stdout",
     "output_type": "stream",
     "text": [
      "Learning rate:  0.05\n",
      "Accuracy score (validation): 0.494\n",
      "Learning rate:  0.075\n",
      "Accuracy score (validation): 0.506\n",
      "Learning rate:  0.1\n",
      "Accuracy score (validation): 0.501\n",
      "Learning rate:  0.25\n",
      "Accuracy score (validation): 0.497\n",
      "Learning rate:  0.5\n",
      "Accuracy score (validation): 0.497\n",
      "Learning rate:  0.75\n",
      "Accuracy score (validation): 0.487\n",
      "Learning rate:  1\n",
      "Accuracy score (validation): 0.499\n"
     ]
    }
   ],
   "source": [
    "lr_list = [0.05, 0.075, 0.1, 0.25, 0.5, 0.75, 1]\n",
    "\n",
    "for learning_rate in lr_list:\n",
    "    gb_clf = GradientBoostingClassifier(n_estimators=20, learning_rate=learning_rate, max_features=2, max_depth=2, random_state=0)\n",
    "    gb_clf.fit(X_train, y_train)\n",
    "\n",
    "    print(\"Learning rate: \", learning_rate)\n",
    "    #print(\"Accuracy score (training): {0:.3f}\".format(gb_clf.score(X_train, Y_train)))\n",
    "    print(\"Accuracy score (validation): {0:.3f}\".format(gb_clf.score(X_val, y_val)))"
   ]
  },
  {
   "cell_type": "code",
   "execution_count": null,
   "metadata": {},
   "outputs": [],
   "source": []
  }
 ],
 "metadata": {
  "kernelspec": {
   "display_name": "Python 3.9.13 64-bit ('3.9.13')",
   "language": "python",
   "name": "python3"
  },
  "language_info": {
   "codemirror_mode": {
    "name": "ipython",
    "version": 3
   },
   "file_extension": ".py",
   "mimetype": "text/x-python",
   "name": "python",
   "nbconvert_exporter": "python",
   "pygments_lexer": "ipython3",
   "version": "3.9.13"
  },
  "orig_nbformat": 4,
  "vscode": {
   "interpreter": {
    "hash": "d8bd755fbfa39474012af1dcf62cf02074bf23bea310936296c92394dcb00e6c"
   }
  }
 },
 "nbformat": 4,
 "nbformat_minor": 2
}
